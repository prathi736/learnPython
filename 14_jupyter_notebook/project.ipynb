{
 "cells": [
  {
   "cell_type": "code",
   "execution_count": 2,
   "id": "8e0b665d",
   "metadata": {},
   "outputs": [
    {
     "name": "stdout",
     "output_type": "stream",
     "text": [
      "Hello World!!\n"
     ]
    }
   ],
   "source": [
    "print(\"Hello World!!\")"
   ]
  },
  {
   "cell_type": "markdown",
   "id": "bb1781a8",
   "metadata": {},
   "source": [
    "### chair aur python \n",
    "learning python everyday"
   ]
  },
  {
   "cell_type": "code",
   "execution_count": 3,
   "id": "80e0ce0b",
   "metadata": {},
   "outputs": [
    {
     "name": "stdout",
     "output_type": "stream",
     "text": [
      "0-1-2-3-4-5-6-7-8-9-"
     ]
    }
   ],
   "source": [
    "for i in range(10):\n",
    "    print(i, end='-')"
   ]
  }
 ],
 "metadata": {
  "kernelspec": {
   "display_name": "base",
   "language": "python",
   "name": "python3"
  },
  "language_info": {
   "codemirror_mode": {
    "name": "ipython",
    "version": 3
   },
   "file_extension": ".py",
   "mimetype": "text/x-python",
   "name": "python",
   "nbconvert_exporter": "python",
   "pygments_lexer": "ipython3",
   "version": "3.9.12"
  }
 },
 "nbformat": 4,
 "nbformat_minor": 5
}
